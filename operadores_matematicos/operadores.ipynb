{
 "cells": [
  {
   "cell_type": "code",
   "execution_count": null,
   "metadata": {},
   "outputs": [],
   "source": [
    "# 1. Entre com dois números inteiros e exiba:\n",
    "# a) A soma\n",
    "# b) A subtração\n",
    "# c) A multiplicação\n",
    "# d) A divisão\n",
    "# e) O resto da divisão\n",
    "\n",
    "x = 17\n",
    "x1 = 34\n",
    "\n",
    "soma = x + x1\n",
    "subtracao = x - x1\n",
    "multiplicacao = x * x1\n",
    "divisao = x / x1\n",
    "resto = x % x1\n",
    "\n",
    "print(\"Soma:\", soma)\n",
    "print(\"Subtração:\", subtracao)\n",
    "print(\"Multiplicação:\", multiplicacao)\n",
    "print(\"Divisão:\", divisao)\n",
    "print(\"Resto da divisão:\", resto)\n"
   ]
  },
  {
   "cell_type": "code",
   "execution_count": null,
   "metadata": {},
   "outputs": [],
   "source": [
    "# 2. Entre com dois números e exiba a soma e a diferença entre eles.\n",
    "\n",
    "x = 19\n",
    "x1 = 91\n",
    "\n",
    "result1 = x + x1\n",
    "result2 = x - x1\n",
    "\n",
    "print(\"O resultado da soma é:\", result1)\n",
    "print(\"O resultado da subtração é:\", result2)\n"
   ]
  },
  {
   "cell_type": "code",
   "execution_count": null,
   "metadata": {},
   "outputs": [],
   "source": [
    "# 3. Entre com dois números, calcule e exiba o produto e o quociente (divisão real e percentual).\n",
    "\n",
    "x = 40\n",
    "x1 = 60\n",
    "x2 = 54.98\n",
    "x3 = 98.64\n",
    "\n",
    "percentual1 = (x / x1) * 100\n",
    "percentual2 = (x2 / x3) * 100\n",
    "\n",
    "print(\"Percentual 1:\", percentual1)\n",
    "print(\"Percentual 2:\", percentual2)\n"
   ]
  },
  {
   "cell_type": "code",
   "execution_count": null,
   "metadata": {},
   "outputs": [],
   "source": [
    "# 4. Entre com um número e exiba se ele é par ou ímpar usando o operador de módulo %.\n",
    "\n",
    "x = 35\n",
    "\n",
    "if x % 2 == 0:\n",
    "    print(\"O número é par\")\n",
    "else:\n",
    "    print(\"O número é ímpar\")\n"
   ]
  },
  {
   "cell_type": "code",
   "execution_count": null,
   "metadata": {},
   "outputs": [],
   "source": [
    "x = 34\n",
    "\n",
    "if x % 2 == 0:\n",
    "    print(\"O número é par\")\n",
    "else:\n",
    "    print(\"O número é ímpar\")\n"
   ]
  },
  {
   "cell_type": "code",
   "execution_count": null,
   "metadata": {},
   "outputs": [],
   "source": [
    "# 5. Entre com dois números e calcule a potência do primeiro elevado ao segundo.\n",
    "\n",
    "x = 10\n",
    "x1 = 4\n",
    "\n",
    "elevado = x ** x1\n",
    "\n",
    "print(\"Resultado da potência:\", elevado)\n"
   ]
  },
  {
   "cell_type": "code",
   "execution_count": null,
   "metadata": {},
   "outputs": [],
   "source": [
    "# 6. Entre com três números e exiba a média aritmética deles.\n",
    "\n",
    "x1 = 4\n",
    "x2 = 9\n",
    "x3 = 3\n",
    "\n",
    "media = (x1 + x2 + x3) / 3\n",
    "\n",
    "print(\"Média aritmética:\", media)\n"
   ]
  },
  {
   "cell_type": "code",
   "execution_count": null,
   "metadata": {},
   "outputs": [],
   "source": [
    "# 7. Entre com um número e utilize operadores de atribuição para realizar operações, imprimindo o resultado a cada etapa.\n",
    "\n",
    "x = 10\n",
    "\n",
    "x += 5\n",
    "print(\"Após adicionar 5:\", x)\n",
    "\n",
    "x *= 2\n",
    "print(\"Após multiplicar por 2:\", x)\n",
    "\n",
    "x -= 3\n",
    "print(\"Após subtrair 3:\", x)\n",
    "\n",
    "x /= 2\n",
    "print(\"Após dividir por 2:\", x)\n",
    "\n",
    "x %= 3\n",
    "print(\"Resto da divisão por 3:\", x)\n"
   ]
  },
  {
   "cell_type": "code",
   "execution_count": null,
   "metadata": {},
   "outputs": [],
   "source": [
    "# 7. Entre com um número e utilize operadores de atribuição para realizar operações, imprimindo o resultado a cada etapa.\n",
    "\n",
    "x = 10\n",
    "\n",
    "x += 5\n",
    "print(\"Após adicionar 5:\", x)\n",
    "\n",
    "x *= 2\n",
    "print(\"Após multiplicar por 2:\", x)\n",
    "\n",
    "x -= 3\n",
    "print(\"Após subtrair 3:\", x)\n",
    "\n",
    "x /= 2\n",
    "print(\"Após dividir por 2:\", x)\n",
    "\n",
    "x %= 3\n",
    "print(\"Resto da divisão por 3:\", x)\n"
   ]
  },
  {
   "cell_type": "code",
   "execution_count": null,
   "metadata": {},
   "outputs": [],
   "source": [
    "# 8. Entre com dois números e exiba as comparações.\n",
    "\n",
    "x = 5\n",
    "x1 = 6\n",
    "\n",
    "if x > x1:\n",
    "    print(\"O primeiro número é maior que o segundo\")\n",
    "else:\n",
    "    print(\"O primeiro número é menor que o segundo\")\n",
    "\n",
    "if x == x1:\n",
    "    print(\"Os dois números são iguais\")\n",
    "else:\n",
    "    print(\"Os dois números são diferentes\")\n",
    "\n",
    "if x <= x1:\n",
    "    print(\"O primeiro número é menor ou igual ao segundo\")\n"
   ]
  },
  {
   "cell_type": "code",
   "execution_count": null,
   "metadata": {},
   "outputs": [],
   "source": [
    "# 9. Entre com duas idades. Verifique se ambos têm mais de 10 anos.\n",
    "\n",
    "x = 24\n",
    "y = 99\n",
    "\n",
    "if x > 10 and y > 10:\n",
    "    print(\"Ambos têm mais que 10 anos\")\n",
    "else:\n",
    "    print(\"Um ou ambos têm 10 anos ou menos\")\n"
   ]
  },
  {
   "cell_type": "code",
   "execution_count": null,
   "metadata": {},
   "outputs": [],
   "source": [
    "# 10. Solicite ao usuário uma palavra e verifique se a letra \"a\" está presente nela.\n",
    "\n",
    "palavra = input(\"Digite uma palavra: \")\n",
    "\n",
    "if 'a' in palavra:\n",
    "    print(\"A letra 'a' está presente na palavra.\")\n",
    "else:\n",
    "    print(\"A letra 'a' não está presente na palavra.\")\n"
   ]
  }
 ],
 "metadata": {
  "language_info": {
   "name": "python"
  }
 },
 "nbformat": 4,
 "nbformat_minor": 2
}
