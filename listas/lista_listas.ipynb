{
 "cells": [
  {
   "cell_type": "code",
   "execution_count": 1,
   "metadata": {},
   "outputs": [
    {
     "name": "stdout",
     "output_type": "stream",
     "text": [
      "55\n"
     ]
    }
   ],
   "source": [
    "# 1. Criar uma lista de 10 números inteiros e imprimir a soma de todos os elementos.\n",
    "lista = [1,2,3,4,5,6,7,8,9,10]\n",
    "\n",
    "soma = sum(lista)\n",
    "\n",
    "print(soma)"
   ]
  },
  {
   "cell_type": "code",
   "execution_count": 3,
   "metadata": {},
   "outputs": [
    {
     "name": "stdout",
     "output_type": "stream",
     "text": [
      "[1, 2, 3, 4, 5, 6, 7, 8, 9, 10]\n"
     ]
    }
   ],
   "source": [
    "# 2. Adicionar um número ao final de uma lista e imprimir a lista atualizada.\n",
    "\n",
    "lista = [1,2,3,4,5,6,7,8,9]\n",
    "\n",
    "lista.append(10)\n",
    "\n",
    "print(lista)"
   ]
  },
  {
   "cell_type": "code",
   "execution_count": 5,
   "metadata": {},
   "outputs": [
    {
     "name": "stdout",
     "output_type": "stream",
     "text": [
      "[1, 2, 3, 4, 5, 6, 7, 8]\n"
     ]
    }
   ],
   "source": [
    "#3. Remover o último item de uma lista e exibir a lista após a remoção.\n",
    "lista = [1,2,3,4,5,6,7,8,9]\n",
    "\n",
    "lista.remove(9)\n",
    "\n",
    "print(lista)"
   ]
  },
  {
   "cell_type": "code",
   "execution_count": 24,
   "metadata": {},
   "outputs": [
    {
     "name": "stdout",
     "output_type": "stream",
     "text": [
      "Sim está o 9\n"
     ]
    }
   ],
   "source": [
    "# 4. Verificar se um número específico está presente na lista.\n",
    "lista = [1,2,3,4,5,6,7,8,9]\n",
    "numero = 9\n",
    "if numero in lista:\n",
    "    print(\"Sim está o 9\")\n",
    "else:\n",
    "    print(\"Não está\")\n"
   ]
  },
  {
   "cell_type": "code",
   "execution_count": 25,
   "metadata": {},
   "outputs": [
    {
     "name": "stdout",
     "output_type": "stream",
     "text": [
      "['Matheus', 'Marcos', 'Lucas', 'João', 'Pedro']\n"
     ]
    }
   ],
   "source": [
    "# 5. Criar uma lista de números e imprimir apenas os números pares.\n",
    "\n",
    "nomes = [\"Matheus\", \"Marcos\", \"Lucas\", \"João\", \"Pedro\"]\n",
    "\n",
    "print(nomes)"
   ]
  },
  {
   "cell_type": "code",
   "execution_count": null,
   "metadata": {},
   "outputs": [
    {
     "name": "stdout",
     "output_type": "stream",
     "text": [
      "A palavra Matheus aparece 1 na lista.\n"
     ]
    }
   ],
   "source": [
    "# 7. Criar uma lista de strings e verificar quantas vezes uma palavra específica aparece.\n",
    "\n",
    "nomes = [\"Matheus\", \"Marcos\", \"Lucas\", \"João\", \"Pedro\"]\n",
    "string = \"Matheus\"\n",
    "\n",
    "quantidade = nomes.count(string)\n",
    "\n",
    "print(f\"A palavra Matheus aparece {quantidade} vez na lista.\")\n"
   ]
  },
  {
   "cell_type": "code",
   "execution_count": null,
   "metadata": {},
   "outputs": [
    {
     "name": "stdout",
     "output_type": "stream",
     "text": [
      "5\n"
     ]
    }
   ],
   "source": [
    "# 8. Criar uma lista de 5 números e imprimir o maior número.\n",
    "lista = [1,2,3,4,5]\n",
    "maior = max(lista)\n",
    "print(maior)"
   ]
  },
  {
   "cell_type": "code",
   "execution_count": 34,
   "metadata": {},
   "outputs": [
    {
     "name": "stdout",
     "output_type": "stream",
     "text": [
      "[]\n"
     ]
    }
   ],
   "source": [
    "# 9. Criar uma lista e limpar todos os elementos dela.\n",
    "\n",
    "lista = [12345]\n",
    "\n",
    "limpar = lista.pop()\n",
    "\n",
    "print(lista)"
   ]
  },
  {
   "cell_type": "code",
   "execution_count": 37,
   "metadata": {},
   "outputs": [
    {
     "name": "stdout",
     "output_type": "stream",
     "text": [
      "[1, 2, 3, 4, 5, 5, 8, 9, 9]\n",
      "[9, 9, 8, 5, 5, 4, 3, 2, 1]\n"
     ]
    }
   ],
   "source": [
    "# 10. Ordenar uma lista de números em ordem crescente e decrescente.\n",
    "\n",
    "lista = [5,8,9,4,5,1,2,3,9]\n",
    "\n",
    "crescente = lista.sort()\n",
    "print(lista)\n",
    "\n",
    "decrescente = lista.reverse()\n",
    "print(lista)"
   ]
  },
  {
   "cell_type": "code",
   "execution_count": 38,
   "metadata": {},
   "outputs": [
    {
     "name": "stdout",
     "output_type": "stream",
     "text": [
      "[1, 2, 9, 4, 5]\n"
     ]
    }
   ],
   "source": [
    "# 11. Criar uma lista de 5 números e substituir o segundo elemento por um novo valor.\n",
    "\n",
    "lista = [1,2,3,4,5]\n",
    "\n",
    "lista[2] = 9\n",
    "\n",
    "print(lista)"
   ]
  },
  {
   "cell_type": "code",
   "execution_count": 39,
   "metadata": {},
   "outputs": [
    {
     "name": "stdout",
     "output_type": "stream",
     "text": [
      "[10, 9, 8, 7, 6, 5, 4, 3, 2, 1]\n"
     ]
    }
   ],
   "source": [
    "# 12. Inverter a ordem dos elementos em uma lista.\n",
    "\n",
    "lista = [1,2,3,4,5,6,7,8,9,10]\n",
    "\n",
    "inverter = lista.reverse()\n",
    "\n",
    "print(lista)"
   ]
  },
  {
   "cell_type": "code",
   "execution_count": null,
   "metadata": {},
   "outputs": [],
   "source": [
    "# 13. Criar uma lista de números e imprimir apenas os números ímpares.\n",
    "\n",
    "lista = [1,2,3,4,5,6,7,8,9,10]\n",
    "\n",
    "for i in  lista:\n",
    "    if i % 2 != 0:\n",
    "        print(i)"
   ]
  },
  {
   "cell_type": "code",
   "execution_count": null,
   "metadata": {},
   "outputs": [
    {
     "name": "stdout",
     "output_type": "stream",
     "text": [
      "[1, 2, 3, 4, 5, 6]\n"
     ]
    }
   ],
   "source": [
    "# 14. Concatenar duas listas e imprimir o resultado.\n",
    "\n",
    "lista1 = [1,2,3]\n",
    "lista2 = [4,5,6]\n",
    "\n",
    "df = lista1 + lista2\n",
    "\n",
    "print(df)"
   ]
  },
  {
   "cell_type": "code",
   "execution_count": 60,
   "metadata": {},
   "outputs": [
    {
     "name": "stdout",
     "output_type": "stream",
     "text": [
      "quarta\n"
     ]
    }
   ],
   "source": [
    "# 15. Criar uma lista com os dias da semana e imprimir o terceiro dia.\n",
    "\n",
    "dias = [\"segunda\", \"terça\", \"quarta\", \"quinta\", \"sexta\", \"sábado\", \"domingo\"]\n",
    "\n",
    "dias = dias[2]\n",
    "\n",
    "print(dias)"
   ]
  },
  {
   "cell_type": "code",
   "execution_count": 64,
   "metadata": {},
   "outputs": [
    {
     "name": "stdout",
     "output_type": "stream",
     "text": [
      "['Américo']\n"
     ]
    }
   ],
   "source": [
    "# Criar uma lista de nomes e exibir apenas os nomes que começam com a letra &quot;A&quot;.\n",
    "\n",
    "nomes = [\"Matheus\", \"Marcos\", \"Lucas\", \"João\", \"Pedro\", \"Américo\"]\n",
    "\n",
    "a = [nome for nome in nomes if nome.startswith(\"A\")]\n",
    "\n",
    "print(a)"
   ]
  },
  {
   "cell_type": "code",
   "execution_count": 68,
   "metadata": {},
   "outputs": [
    {
     "name": "stdout",
     "output_type": "stream",
     "text": [
      "[3, 6, 9, 12, 15, 18]\n"
     ]
    }
   ],
   "source": [
    "# 17. Criar uma lista de 5 números e multiplicar cada número por 3.\n",
    "\n",
    "numeros = [1,2,3,4,5,6]\n",
    "\n",
    "mul = [num * 3 for num in numeros]\n",
    "\n",
    "print(mul)"
   ]
  },
  {
   "cell_type": "code",
   "execution_count": 76,
   "metadata": {},
   "outputs": [
    {
     "name": "stdout",
     "output_type": "stream",
     "text": [
      "preto\n"
     ]
    }
   ],
   "source": [
    "cores = [\"azul\", \"vermelho\", \"branco\", \"preto\"]\n",
    "\n",
    "cores = cores[3]\n",
    "\n",
    "print(cores)"
   ]
  },
  {
   "cell_type": "code",
   "execution_count": 77,
   "metadata": {},
   "outputs": [
    {
     "name": "stdout",
     "output_type": "stream",
     "text": [
      "[12, 4, 5, 5]\n"
     ]
    }
   ],
   "source": [
    "# Criar uma lista e remover um elemento específico.\n",
    "\n",
    "lista = [12,3,4,5,5]\n",
    "\n",
    "lista.remove(3)\n",
    "\n",
    "print(lista)"
   ]
  },
  {
   "cell_type": "code",
   "execution_count": 82,
   "metadata": {},
   "outputs": [
    {
     "name": "stdout",
     "output_type": "stream",
     "text": [
      "[12, 3, 4, 56, 77, 8, 8]\n"
     ]
    }
   ],
   "source": [
    "# 21. Criar uma lista e copiar os elementos para outra lista\n",
    "\n",
    "lista = [12,3,4,56,77,8,8,]\n",
    "lista2 = []\n",
    "\n",
    "lista2 = lista.copy()\n",
    "\n",
    "print(lista2)"
   ]
  },
  {
   "cell_type": "code",
   "execution_count": 84,
   "metadata": {},
   "outputs": [
    {
     "name": "stdout",
     "output_type": "stream",
     "text": [
      "Banana está presente\n"
     ]
    }
   ],
   "source": [
    "# Criar uma lista de frutas e verificar se &quot;banana&quot; está presente.\n",
    "\n",
    "lista = [\"maçã\", \"banana\", \"pera\", \"uva\"]\n",
    "\n",
    "if \"banana\" in lista:\n",
    "    print(\"Banana está presente\")\n",
    "else:\n",
    "    print(\"Não está presente\")"
   ]
  },
  {
   "cell_type": "code",
   "execution_count": null,
   "metadata": {},
   "outputs": [
    {
     "name": "stdout",
     "output_type": "stream",
     "text": [
      "4.0\n"
     ]
    }
   ],
   "source": [
    "# Criar uma lista de 5 números e calcular a média dos elementos.\n",
    "\n",
    "lista = [1,2,3,5,6,7]\n",
    "\n",
    "media = sum(lista) / len(lista)\n",
    "\n",
    "print(media)"
   ]
  },
  {
   "cell_type": "code",
   "execution_count": 86,
   "metadata": {},
   "outputs": [
    {
     "name": "stdout",
     "output_type": "stream",
     "text": [
      "São iguais\n"
     ]
    }
   ],
   "source": [
    "# Verificar se duas listas são idênticas (mesmo tamanho e valores na mesma ordem).\n",
    "\n",
    "lista = [123]\n",
    "lista2 = [123]\n",
    "\n",
    "if lista == lista2:\n",
    "    print(\"São iguais\")\n",
    "else:\n",
    "    print(\"diferentes\")"
   ]
  },
  {
   "cell_type": "code",
   "execution_count": 87,
   "metadata": {},
   "outputs": [
    {
     "name": "stdout",
     "output_type": "stream",
     "text": [
      "5 está presente\n"
     ]
    }
   ],
   "source": [
    "# Criar uma lista com 5 elementos e verificar se um número específico está presente.\n",
    "\n",
    "lista = [1,23,4,5,9]\n",
    "\n",
    "if 5 in lista:\n",
    "    print(\"5 está presente\")\n",
    "else:\n",
    "    print(\"Não está\")"
   ]
  },
  {
   "cell_type": "code",
   "execution_count": null,
   "metadata": {},
   "outputs": [],
   "source": [
    "# 26. Criar uma lista de 5 números e exibir o primeiro e o último elemento.\n",
    "\n",
    "lista = [1,2,3,4,5]\n",
    "\n",
    "ultimo = lista[-1]\n",
    "primeiro = lista[0]\n",
    "\n",
    "print(primeiro, ultimo)"
   ]
  },
  {
   "cell_type": "code",
   "execution_count": 101,
   "metadata": {},
   "outputs": [
    {
     "name": "stdout",
     "output_type": "stream",
     "text": [
      "2\n"
     ]
    }
   ],
   "source": [
    "# 27. Criar uma lista e contar quantos elementos ela tem.\n",
    "\n",
    "lista = [123456789,2]\n",
    "\n",
    "lista = len(lista)\n",
    "\n",
    "print(lista)"
   ]
  },
  {
   "cell_type": "code",
   "execution_count": 107,
   "metadata": {},
   "outputs": [
    {
     "name": "stdout",
     "output_type": "stream",
     "text": [
      "[1, 1, 1]\n"
     ]
    }
   ],
   "source": [
    "# 28. Criar uma lista vazia e adicionar 3 elementos nela.\n",
    "\n",
    "lista = []\n",
    "\n",
    "lista.append(1)\n",
    "lista.append(1)\n",
    "lista.append(1)\n",
    "\n",
    "print(lista)\n"
   ]
  }
 ],
 "metadata": {
  "kernelspec": {
   "display_name": "Python 3",
   "language": "python",
   "name": "python3"
  },
  "language_info": {
   "codemirror_mode": {
    "name": "ipython",
    "version": 3
   },
   "file_extension": ".py",
   "mimetype": "text/x-python",
   "name": "python",
   "nbconvert_exporter": "python",
   "pygments_lexer": "ipython3",
   "version": "3.12.6"
  }
 },
 "nbformat": 4,
 "nbformat_minor": 2
}
