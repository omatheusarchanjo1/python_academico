{
 "cells": [
  {
   "cell_type": "code",
   "execution_count": null,
   "metadata": {},
   "outputs": [],
   "source": [
    "# 1. Classificação de nota\n",
    "nota = float(input(\"Digite sua nota: \"))\n",
    "if nota > 90:\n",
    "    print(\"Sua nota é A\")\n",
    "elif nota >= 80 and nota <= 90:\n",
    "    print(\"Sua nota é B\")\n",
    "elif nota >= 70 and nota < 80:\n",
    "    print(\"Sua nota é C\")\n",
    "elif nota >= 60 and nota < 70:\n",
    "    print(\"Sua nota é D\")\n",
    "else:\n",
    "    print(\"Sua nota é F\")\n"
   ]
  },
  {
   "cell_type": "code",
   "execution_count": null,
   "metadata": {},
   "outputs": [],
   "source": [
    "# 2. Classificação por idade\n",
    "idade = int(input(\"Digite sua idade: \"))\n",
    "if idade < 12:\n",
    "    print(\"Você é criança mano\")\n",
    "elif idade >= 12 and idade <= 17:\n",
    "    print(\"Você é adolescente mano\")\n",
    "elif idade >= 18 and idade <= 64:\n",
    "    print(\"Você é adulto\")\n",
    "else:\n",
    "    print(\"Você é idoso\")\n"
   ]
  },
  {
   "cell_type": "code",
   "execution_count": null,
   "metadata": {},
   "outputs": [],
   "source": [
    "# 3. Cálculo do IMC\n",
    "peso = float(input(\"Digite seu peso (kg): \"))\n",
    "altura = float(input(\"Digite sua altura (em metros): \"))\n",
    "imc = peso / (altura ** 2)\n",
    "if imc < 18.5:\n",
    "    print(\"Abaixo do peso\")\n",
    "elif imc >= 18.5 and imc < 25:\n",
    "    print(\"Peso normal\")\n",
    "elif imc >= 25 and imc < 30:\n",
    "    print(\"Sobrepeso\")\n",
    "else:\n",
    "    print(\"Obesidade\")\n"
   ]
  },
  {
   "cell_type": "code",
   "execution_count": null,
   "metadata": {},
   "outputs": [],
   "source": [
    "# 4. Cálculo de bônus salarial\n",
    "tempo = int(input(\"Digite quantos meses tem de empresa: \"))\n",
    "salario = float(input(\"Digite seu salário: \"))\n",
    "if tempo > 12 and tempo <= 36:\n",
    "    bonus = salario * 0.05\n",
    "    print(f\"Você recebeu um bônus de 5%. O salário ficou: R${salario + bonus:.2f}\")\n",
    "elif tempo > 36 and tempo <= 60:\n",
    "    bonus = salario * 0.10\n",
    "    print(f\"Você recebeu um bônus de 10%. O salário ficou: R${salario + bonus:.2f}\")\n",
    "elif tempo > 60:\n",
    "    bonus = salario * 0.15\n",
    "    print(f\"Você recebeu um bônus de 15%. O salário ficou: R${salario + bonus:.2f}\")\n",
    "else:\n",
    "    print(\"Você não tem bônus\")\n"
   ]
  },
  {
   "cell_type": "code",
   "execution_count": null,
   "metadata": {},
   "outputs": [],
   "source": [
    "# 5. Classificação de velocidade\n",
    "velocidade = int(input(\"Digite a velocidade: \"))\n",
    "if velocidade < 40:\n",
    "    print(\"Baixa velocidade\")\n",
    "elif velocidade >= 40 and velocidade < 80:\n",
    "    print(\"Velocidade moderada\")\n",
    "elif velocidade >= 80 and velocidade <= 120:\n",
    "    print(\"Velocidade alta\")\n",
    "else:\n",
    "    print(\"Altíssima velocidade\")\n"
   ]
  },
  {
   "cell_type": "code",
   "execution_count": null,
   "metadata": {},
   "outputs": [],
   "source": [
    "# 6. Verificação de patente\n",
    "tipo_usuario = input(\"Digite seu tipo de usuário (militar, cientista, civil, hacker ético): \").lower().strip()\n",
    "\n",
    "if tipo_usuario == \"militar\":\n",
    "    patente = input(\"Digite sua patente (general/soldado): \").lower().strip()\n",
    "    if patente == \"general\":\n",
    "        print(\"Acesso permitido: Generais têm acesso total.\")\n",
    "    elif patente == \"soldado\":\n",
    "        em_missao = input(\"Está em missão especial? (sim/não): \").lower().strip()\n",
    "        acompanhado = input(\"Está acompanhado por um oficial superior? (sim/não): \").lower().strip()\n",
    "        if em_missao == \"sim\" and acompanhado == \"sim\":\n",
    "            print(\"Acesso permitido: Soldado em missão especial e acompanhado.\")\n",
    "        else:\n",
    "            print(\"Acesso negado: Soldado precisa estar em missão e acompanhado.\")\n",
    "    else:\n",
    "        print(\"Patente inválida.\")\n",
    "\n",
    "elif tipo_usuario == \"cientista\":\n",
    "    tem_autorizacao = input(\"Possui autorização secreta? (sim/não): \").lower().strip()\n",
    "    nivel_seguranca = int(input(\"Qual seu nível de segurança? (0-10): \").strip())\n",
    "    if nivel_seguranca >= 5:\n",
    "        print(\"Acesso permitido: Nível de segurança 5 ou superior.\")\n",
    "    elif tem_autorizacao == \"sim\":\n",
    "        print(\"Acesso permitido: Possui autorização secreta.\")\n",
    "    else:\n",
    "        escoltado = input(\"Está acompanhado por um militar? (sim/não): \").lower().strip()\n",
    "        if escoltado == \"sim\":\n",
    "            print(\"Acesso permitido: Cientista com escolta militar.\")\n",
    "        else:\n",
    "            print(\"Acesso negado: Necessário nível de segurança adequado, autorização ou escolta.\")\n",
    "\n",
    "elif tipo_usuario == \"civil\":\n",
    "    eh_familiar = input(\"É familiar direto de um militar de alta patente? (sim/não): \").lower().strip()\n",
    "    if eh_familiar == \"sim\":\n",
    "        print(\"Acesso permitido: Familiar direto de militar de alta patente.\")\n",
    "    else:\n",
    "        print(\"Acesso negado, visitantes só podem entrar às segundas e quintas-feiras.\")\n",
    "\n",
    "elif tipo_usuario == \"hacker ético\":\n",
    "    tem_codigo = input(\"Possui um código de acesso válido? (sim/não): \").lower().strip()\n",
    "    if tem_codigo == \"sim\":\n",
    "        print(\"Acesso permitido: Código de acesso válido.\")\n",
    "    else:\n",
    "        acompanhado = input(\"Está acompanhado por um militar de nível superior? (sim/não): \").lower().strip()\n",
    "        if acompanhado == \"sim\":\n",
    "            print(\"Acesso permitido: Acompanhado por um militar de nível superior.\")\n",
    "        else:\n",
    "            print(\"Acesso negado: Hackers éticos precisam de código válido ou escolta.\")\n",
    "\n",
    "else:\n",
    "    print(\"Tipo de usuário inválido.\")\n"
   ]
  }
 ],
 "metadata": {
  "language_info": {
   "name": "python"
  }
 },
 "nbformat": 4,
 "nbformat_minor": 2
}
