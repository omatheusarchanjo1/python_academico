{
 "cells": [
  {
   "cell_type": "code",
   "execution_count": null,
   "metadata": {},
   "outputs": [],
   "source": [
    "# 1. Verificar maioridade\n",
    "idade = int(input(\"Digite a sua idade: \"))\n",
    "if idade >= 18:\n",
    "    print(\"Você é maior de idade\")\n"
   ]
  },
  {
   "cell_type": "code",
   "execution_count": null,
   "metadata": {},
   "outputs": [],
   "source": [
    "# 3. Verificar se o número é par\n",
    "numero = int(input(\"Digite um número: \"))\n",
    "if numero % 2 == 0:\n",
    "    print(\"O número é par\")\n",
    "else:\n",
    "    print(\"O número é ímpar\")\n"
   ]
  },
  {
   "cell_type": "code",
   "execution_count": null,
   "metadata": {},
   "outputs": [],
   "source": [
    "# 4. Verificar se a temperatura está quente\n",
    "temperatura = int(input(\"Digite a temperatura: \"))\n",
    "if temperatura > 30:\n",
    "    print(\"Está quente\")\n",
    "else:\n",
    "    print(\"Temperatura agradável\")\n"
   ]
  },
  {
   "cell_type": "code",
   "execution_count": null,
   "metadata": {},
   "outputs": [],
   "source": [
    "# 5. Verificar aprovação pela nota\n",
    "nota = int(input(\"Digite sua nota: \"))\n",
    "if nota > 6:\n",
    "    print(\"Aprovado\")\n",
    "else:\n",
    "    print(\"Reprovado\")\n"
   ]
  },
  {
   "cell_type": "code",
   "execution_count": null,
   "metadata": {},
   "outputs": [],
   "source": [
    "# 6. Verificar senha\n",
    "senha = int(input(\"Digite sua senha: \"))\n",
    "if senha == 1234:\n",
    "    print(\"Acesso permitido\")\n",
    "else:\n",
    "    print(\"Acesso negado\")\n"
   ]
  },
  {
   "cell_type": "code",
   "execution_count": null,
   "metadata": {},
   "outputs": [],
   "source": [
    "# 7. Verificar desconto por valor da compra\n",
    "valor = float(input(\"Digite o valor da compra: \"))\n",
    "if valor > 100:\n",
    "    print(f\"Você recebeu um desconto! Valor: R${valor:.2f}\")\n",
    "else:\n",
    "    print(f\"Sem desconto. Valor: R${valor:.2f}\")\n"
   ]
  },
  {
   "cell_type": "code",
   "execution_count": null,
   "metadata": {},
   "outputs": [],
   "source": [
    "# 8. Verificar se número é maior que 100\n",
    "numero = int(input(\"Digite um número: \"))\n",
    "if numero > 100:\n",
    "    print(\"O número é maior que 100\")\n",
    "else:\n",
    "    print(\"O número não é maior que 100\")\n"
   ]
  },
  {
   "cell_type": "code",
   "execution_count": null,
   "metadata": {},
   "outputs": [],
   "source": [
    "# 9. Verificar velocidade e multa\n",
    "velocidade = int(input(\"Digite a sua velocidade: \"))\n",
    "if velocidade > 80:\n",
    "    print(\"Você foi multado\")\n",
    "else:\n",
    "    print(\"Velocidade permitida\")\n"
   ]
  },
  {
   "cell_type": "code",
   "execution_count": null,
   "metadata": {},
   "outputs": [],
   "source": [
    "# 10. Verificar se o ano é bissexto\n",
    "ano = int(input(\"Digite o ano: \"))\n",
    "if ano % 4 == 0:\n",
    "    print(\"O ano é bissexto\")\n",
    "else:\n",
    "    print(\"O ano não é bissexto\")\n"
   ]
  }
 ],
 "metadata": {
  "language_info": {
   "name": "python"
  }
 },
 "nbformat": 4,
 "nbformat_minor": 2
}
