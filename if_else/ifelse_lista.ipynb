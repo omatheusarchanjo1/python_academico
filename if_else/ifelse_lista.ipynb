{
  "nbformat": 4,
  "nbformat_minor": 0,
  "metadata": {
    "colab": {
      "provenance": []
    },
    "kernelspec": {
      "name": "python3",
      "display_name": "Python 3"
    },
    "language_info": {
      "name": "python"
    }
  },
  "cells": [
    {
      "cell_type": "code",
      "execution_count": null,
      "metadata": {
        "colab": {
          "base_uri": "https://localhost:8080/"
        },
        "id": "_QIPUlE3piUc",
        "outputId": "766ebbf2-0861-496d-a335-2d15d7ee3b4a"
      },
      "outputs": [
        {
          "output_type": "stream",
          "name": "stdout",
          "text": [
            "Escolha um número: 7\n",
            "Escolha outro número: 9\n",
            "A soma dos números é maior que 15\n"
          ]
        }
      ],
      "source": [
        "n1 = int(input(\"Escolha um número: \"))\n",
        "n2 = int(input(\"Escolha outro número: \"))\n",
        "\n",
        "if n1 + n2 > 15:\n",
        "  print(\"A soma dos números é maior que 15\")\n",
        "else:\n",
        "  print(\"A soma dos números é menor que 15\")"
      ]
    },
    {
      "cell_type": "code",
      "source": [
        "numero = int(input(\"Escolha um número: \"))\n",
        "\n",
        "if numero < 0:\n",
        "  print(\"O número é negativo\")\n",
        "else:\n",
        "  print(\"O número é positivo\")"
      ],
      "metadata": {
        "colab": {
          "base_uri": "https://localhost:8080/"
        },
        "id": "VSrX8Qy8qIbF",
        "outputId": "e1ef9e4a-0b9e-4678-f1fa-5cd30e4d8dd9"
      },
      "execution_count": null,
      "outputs": [
        {
          "output_type": "stream",
          "name": "stdout",
          "text": [
            "Escolha um número: 9\n",
            "O número é positivo\n"
          ]
        }
      ]
    },
    {
      "cell_type": "code",
      "source": [
        "idade = int(input(\"Informe sua idade: \"))\n",
        "\n",
        "if idade >= 18:\n",
        "  print(\"Você é maior de idade: \")\n",
        "else:\n",
        "  print(\"Você é menor de idade\")"
      ],
      "metadata": {
        "colab": {
          "base_uri": "https://localhost:8080/"
        },
        "id": "8tH5VvhZqmCp",
        "outputId": "a554455c-c384-48f4-ad49-79d841f70bc8"
      },
      "execution_count": null,
      "outputs": [
        {
          "output_type": "stream",
          "name": "stdout",
          "text": [
            "Informe sua idade: 18\n",
            "Você é maior de idade: \n"
          ]
        }
      ]
    },
    {
      "cell_type": "code",
      "source": [
        "temperatura = float(input(\"Informe a temperatura atual: \"))\n",
        "\n",
        "if temperatura < 10:\n",
        "  print(\"Está muito frio\")\n",
        "elif temperatura < 20:\n",
        "  print(\"Está frio\")\n",
        "elif temperatura < 30:\n",
        "  print(\"Está quente\")\n",
        "else:\n",
        "  print(\"Está muito quente\")"
      ],
      "metadata": {
        "colab": {
          "base_uri": "https://localhost:8080/"
        },
        "id": "GBso1M0VrHQC",
        "outputId": "34028667-20a5-417b-a403-ff6e389c45d3"
      },
      "execution_count": null,
      "outputs": [
        {
          "output_type": "stream",
          "name": "stdout",
          "text": [
            "Informe a temperatura atual: 33\n",
            "Está muito quente\n"
          ]
        }
      ]
    },
    {
      "cell_type": "code",
      "source": [
        "senha = input(\"Digite a senha: \")\n",
        "\n",
        "if senha == \"1234\":\n",
        "  print(\"Acesso permitido\")\n",
        "else:\n",
        "  print(\"Acesso negado, senha inválida.\")"
      ],
      "metadata": {
        "colab": {
          "base_uri": "https://localhost:8080/"
        },
        "id": "1A0NdViKsA-6",
        "outputId": "c98dd6d6-4c58-4007-ec19-3084f3fe8e8f"
      },
      "execution_count": null,
      "outputs": [
        {
          "output_type": "stream",
          "name": "stdout",
          "text": [
            "Digite a senha: 1234\n",
            "Acesso permitido\n"
          ]
        }
      ]
    },
    {
      "cell_type": "code",
      "source": [
        "nota1 = float(input(\"Digite a primeira nota: \"))\n",
        "nota2 = float(input(\"Digite a segunda nota: \"))\n",
        "media = nota1 + nota2 / 2\n",
        "if media >= 7:\n",
        "  print(f\"Aluno aprovado a média é: {media:.2}\")\n",
        "elif media >=5 and media < 7:\n",
        "  print(f\"Ficou de exame, a média é: {media:.2}\")\n",
        "else:\n",
        "  print(f\"Reprovado, a média ficou em: {media:.2}\")"
      ],
      "metadata": {
        "colab": {
          "base_uri": "https://localhost:8080/"
        },
        "id": "z-wjO8tXC_TF",
        "outputId": "039887ec-1f76-4f0c-9ddf-93dcad4f20d6"
      },
      "execution_count": null,
      "outputs": [
        {
          "output_type": "stream",
          "name": "stdout",
          "text": [
            "Digite a primeira nota: 3\n",
            "Digite a segunda nota: 4\n",
            "Ficou de exame, a média é: 5.0\n"
          ]
        }
      ]
    },
    {
      "cell_type": "code",
      "source": [
        "golst1 = int(input(\"Escreve o placar do time 1: \"))\n",
        "golst2 = int(input(\"Escreva o placar do time 2: \"))\n",
        "\n",
        "if golst1 > golst2:\n",
        "  print(\"O time 1 foi o ganhador\")\n",
        "elif golst1 < golst2:\n",
        "  print(\"O time 2 foi o ganhador\")\n",
        "else:\n",
        " print(\"O time sofreu empate\")"
      ],
      "metadata": {
        "colab": {
          "base_uri": "https://localhost:8080/"
        },
        "id": "bVRy1XwlbbI4",
        "outputId": "be486525-6235-433e-c047-ea7dc35b2a4f"
      },
      "execution_count": null,
      "outputs": [
        {
          "output_type": "stream",
          "name": "stdout",
          "text": [
            "Escreve o placar do time 1: 3\n",
            "Escreva o placar do time 2: 3\n",
            "O time sofreu empate\n"
          ]
        }
      ]
    },
    {
      "cell_type": "code",
      "source": [
        "idade = int(input(\"Digite sua idade: \"))\n",
        "\n",
        "if idade < 12:\n",
        "  print(\"Você é uma criança\")\n",
        "elif idade < 19:\n",
        "  print(\"Você é adolescente\")\n",
        "elif idade < 25:\n",
        "  print(\"Você é jovem\")\n",
        "elif idade < 41:\n",
        "  print(\"Você é adulto\")\n",
        "elif idade < 61:\n",
        "  print(\"Você está na meia idade\")\n",
        "else:\n",
        "  print(\"Você é idoso\")"
      ],
      "metadata": {
        "colab": {
          "base_uri": "https://localhost:8080/"
        },
        "id": "KbhamExKcOr_",
        "outputId": "1fc33c2d-e2c1-4299-c648-c6d9c66b1c69"
      },
      "execution_count": null,
      "outputs": [
        {
          "output_type": "stream",
          "name": "stdout",
          "text": [
            "Digite sua idade: 50\n",
            "Você está na meia idade\n"
          ]
        }
      ]
    },
    {
      "cell_type": "code",
      "source": [
        "periodo = input(\"Informe o seu período: 'M' para maturino, 'V' para vespertino, 'N' para noturno \").upper().strip()\n",
        "\n",
        "if periodo == \"M\":\n",
        "  print(\"Bom dia\")\n",
        "elif periodo == \"V\":\n",
        "  print(\"Boa tarde\")\n",
        "elif periodo == \"N\":\n",
        "  print(\"Boa noite\")\n",
        "else:\n",
        "  print(\"Comando inválido\")"
      ],
      "metadata": {
        "colab": {
          "base_uri": "https://localhost:8080/"
        },
        "id": "3eyV5Jp6damp",
        "outputId": "4b1d5419-052f-44f8-968a-9e73e30a54d4"
      },
      "execution_count": null,
      "outputs": [
        {
          "output_type": "stream",
          "name": "stdout",
          "text": [
            "Informe o seu período: 'M' para maturino, 'V' para vespertino, 'N' para noturno  n\n",
            "Boa noite\n"
          ]
        }
      ]
    },
    {
      "cell_type": "code",
      "source": [
        "salario = float(input(\"Informe seu salário: \"))\n",
        "\n",
        "if salario <= 280:\n",
        "  print(\"O salario atual é: \", salario)\n",
        "  print(\"O aumento do salário é de 20%\")\n",
        "  print(\"O valor do aumento é: {:.2f} \".format(salario * 0.2))\n",
        "  print(\"O salario com aumento é: \", salario + salario * 0.2)\n",
        "elif salario <= 700:\n",
        "  print(\"O salario atual é: \", salario)\n",
        "  print(\"O aumento do salário é de 15%\")\n",
        "  print(\"O valor do aumento é: {:.2f}\".format(salario * 0.15))\n",
        "  print(\"O salario com aumento é: \", salario + salario * 0.15)\n",
        "elif salario <= 1500:\n",
        "  print(\"O salario atual é: \", salario)\n",
        "  print(\"O aumento do salário é de 10%\")\n",
        "  print(\"O valor do aumento é: {:.2f}\".format(salario * 0.1))\n",
        "  print(\"O salario com aumento é: \", salario + salario * 0.1)\n",
        "else:\n",
        "  print(\"O salario atual é: \", salario)\n",
        "  print(\"O aumento do salário é de 5%\")\n",
        "  print(\"O valor do aumento é: {:.2f}\".format(salario * 0.05))\n",
        "  print(\"O salario com aumento é: \", salario + salario * 0.05)\n"
      ],
      "metadata": {
        "id": "mafrk4rgbBWp",
        "colab": {
          "base_uri": "https://localhost:8080/"
        },
        "outputId": "e83b5e07-1b9e-4e9a-bfcf-254f918df8ac"
      },
      "execution_count": null,
      "outputs": [
        {
          "output_type": "stream",
          "name": "stdout",
          "text": [
            "Informe seu salário: 900\n",
            "O salario atual é:  900.0\n",
            "O aumento do salário é de 10%\n",
            "O valor do aumento é: 90.00\n",
            "O salario com aumento é:  990.0\n"
          ]
        }
      ]
    },
    {
      "cell_type": "code",
      "source": [
        "dia = int(input(\"Informe um dia da semana em número: \"))\n",
        "\n",
        "match dia:\n",
        "  case 1:\n",
        "    print(\"O dia é domingo\")\n",
        "  case 2:\n",
        "    print(\"O dia é segunda-feira\")\n",
        "  case 3:\n",
        "    print(\"O dia é terça-feira\")\n",
        "  case 4:\n",
        "    print(\"O dia é quarta-feira\")\n",
        "  case 5:\n",
        "    print(\"O dia é quinta-feira\")\n",
        "  case 6:\n",
        "    print(\"O dia é sexta-feira\")\n",
        "  case 7:\n",
        "    print(\"O dia é sábado\")\n",
        "  case _:\n",
        "    print(\"Não é um dia da semana\")"
      ],
      "metadata": {
        "colab": {
          "base_uri": "https://localhost:8080/"
        },
        "id": "wU4Mif5ZIMhI",
        "outputId": "2dd65a4d-0ca2-43bb-b7b4-8a9770051e0b"
      },
      "execution_count": null,
      "outputs": [
        {
          "output_type": "stream",
          "name": "stdout",
          "text": [
            "Informe um dia da semana em número: 0\n",
            "Não é um dia da semana\n"
          ]
        }
      ]
    },
    {
      "cell_type": "code",
      "source": [
        "idade = int(input(\"Informe sua idade: \").strip())\n",
        "\n",
        "match idade:\n",
        "  case _ if idade < 16:\n",
        "    print(\"Você não tem idade pra votar\")\n",
        "  case _ if idade >= 16 and idade <= 18:\n",
        "    print(\"Seu voto é opcional\")\n",
        "  case _ if idade >= 18 and idade <= 65:\n",
        "    print(\"Voto obrigatório\")\n",
        "  case _ if idade > 65:\n",
        "    print(\"Voto opicional\")"
      ],
      "metadata": {
        "colab": {
          "base_uri": "https://localhost:8080/"
        },
        "id": "BZmCZI7YOxXm",
        "outputId": "7b9ba6e3-29bb-44c3-eaaf-785becb57e61"
      },
      "execution_count": null,
      "outputs": [
        {
          "output_type": "stream",
          "name": "stdout",
          "text": [
            "Informe sua idade: 98\n",
            "Voto opicional\n"
          ]
        }
      ]
    },
    {
      "cell_type": "code",
      "source": [
        "pergunta1 = int(input(\"Telefonou pra vítima? 1 para 'sim' e 0 para 'não': \"))\n",
        "pergunta2 = int(input(\"Esteve no local do crime? 1 para 'sim' e 0 para 'não': \"))\n",
        "pergunta3 = int(input(\"Mora perto da vítima? 1 para 'sim' e 0 para 'não': \"))\n",
        "pergunta4 = int(input(\"Devia para vitima? 1 para 'sim' e 0 para 'não': \"))\n",
        "pergunta5 = int(input(\"Já trabalhou com a vítima? 1 para 'sim' e 0 para 'não': \"))\n",
        "\n",
        "suspeito = [pergunta1, pergunta2, pergunta3, pergunta4, pergunta5]\n",
        "contar = suspeito.count(1)\n",
        "match (contar == 2, contar >= 3 and contar <=4, contar == 5):\n",
        "  case (True, False, False):\n",
        "    print(\"Suepeita\")\n",
        "  case (False, True, False):\n",
        "    print(\"Cumplíce\")\n",
        "  case (False, False, True):\n",
        "    print(\"Assassino\")\n",
        "  case _:\n",
        "    print(\"Inocente\")"
      ],
      "metadata": {
        "colab": {
          "base_uri": "https://localhost:8080/"
        },
        "id": "RAqvssjgQlNH",
        "outputId": "41e1931a-d817-4156-fcce-78e3666cc577"
      },
      "execution_count": null,
      "outputs": [
        {
          "output_type": "stream",
          "name": "stdout",
          "text": [
            "Telefonou pra vítima? 1 para 'sim' e 0 para 'não': 1\n",
            "Esteve no local do crime? 1 para 'sim' e 0 para 'não': 1\n",
            "Mora perto da vítima? 1 para 'sim' e 0 para 'não': 1\n",
            "Devia para vitima? 1 para 'sim' e 0 para 'não': 1\n",
            "Já trabalhou com a vítima? 1 para 'sim' e 0 para 'não': 1\n",
            "Assassino\n"
          ]
        }
      ]
    },
    {
      "cell_type": "code",
      "source": [
        "preco1 = float(input(\"Digite o preço do primeiro produto: \"))\n",
        "preco2 = float(input(\"Digite o preço do segundo produto: \"))\n",
        "preco3 = float(input(\"Digite o preço do terceiro produto: \"))\n",
        "\n",
        "if preco1 < preco2 and preco1 < preco3:\n",
        "    print(f\"O primeiro produto é o mais barato, custando R$ {preco1:.2f}.\")\n",
        "elif preco2 < preco1 and preco2 < preco3:\n",
        "    print(f\"O segundo produto é o mais barato, custando R$ {preco2:.2f}.\")\n",
        "else:\n",
        "    print(f\"O terceiro produto é o mais barato, custando R$$ {preco3:.2f}.\")\n"
      ],
      "metadata": {
        "colab": {
          "base_uri": "https://localhost:8080/"
        },
        "id": "HQRGYWzwVd_h",
        "outputId": "46d5c7e8-dbd6-4261-cc09-f41cccf89702"
      },
      "execution_count": null,
      "outputs": [
        {
          "output_type": "stream",
          "name": "stdout",
          "text": [
            "Digite o preço do primeiro produto: 98\n",
            "Digite o preço do segundo produto: 89\n",
            "Digite o preço do terceiro produto: 908\n",
            "O segundo produto é o mais barato, custando R89.00.\n"
          ]
        }
      ]
    },
    {
      "cell_type": "code",
      "source": [
        "c_ou_f = input(\"Informe 'C' para converter de Fahrenheit para Celsius ou 'F' para converter de Celsius para Fahrenheit: \")\n",
        "\n",
        "if c_ou_f.lower() == 'f':\n",
        "    f = float(input(\"Informe a temperatura em Fahrenheit: \"))\n",
        "    c = (f - 32) * 5 / 9\n",
        "    print(f\"{f}°F equivale a {c:.2f}°C\")\n",
        "elif c_ou_f.lower() == 'f':\n",
        "    c = float(input(\"Informe a temperatura em Celsius: \"))\n",
        "    f = (c * 9 / 5) + 32\n",
        "    print(f\"{c}°C equivale a {f:.2f}°F\")\n",
        "else:\n",
        "    print(\"Caractere incorreto. Digite 'C' ou 'F'.\")"
      ],
      "metadata": {
        "colab": {
          "base_uri": "https://localhost:8080/"
        },
        "id": "htdvkfefi2eZ",
        "outputId": "beecc7ed-eebb-4fe4-fdc0-cfc0329189f4"
      },
      "execution_count": null,
      "outputs": [
        {
          "output_type": "stream",
          "name": "stdout",
          "text": [
            "Digite 'C' para converter de Fahrenheit para Celsius ou 'F' para converter de Celsius para Fahrenheit: f\n",
            "Digite a temperatura em Fahrenheit: 56\n",
            "56.0°F equivalem a 13.33°C\n"
          ]
        }
      ]
    },
    {
      "cell_type": "code",
      "source": [],
      "metadata": {
        "id": "YrYFvRygj_5t"
      },
      "execution_count": null,
      "outputs": []
    }
  ]
}