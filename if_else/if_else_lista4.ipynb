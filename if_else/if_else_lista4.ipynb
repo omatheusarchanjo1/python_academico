{
 "cells": [
  {
   "cell_type": "code",
   "execution_count": null,
   "metadata": {},
   "outputs": [],
   "source": [
    "# Soma de dois números\n",
    "n1 = int(input(\"Escolha um número: \"))\n",
    "n2 = int(input(\"Escolha outro número: \"))\n",
    "if n1 + n2 > 15:\n",
    "    print(\"A soma dos números é maior que 15\")\n",
    "else:\n",
    "    print(\"A soma dos números é menor que 15\")\n"
   ]
  },
  {
   "cell_type": "code",
   "execution_count": null,
   "metadata": {},
   "outputs": [],
   "source": [
    "# Verificar se número é negativo ou positivo\n",
    "numero = int(input(\"Escolha um número: \"))\n",
    "if numero < 0:\n",
    "    print(\"O número é negativo\")\n",
    "else:\n",
    "    print(\"O número é positivo\")\n"
   ]
  },
  {
   "cell_type": "code",
   "execution_count": null,
   "metadata": {},
   "outputs": [],
   "source": [
    "# Verificar maioridade\n",
    "idade = int(input(\"Informe sua idade: \"))\n",
    "if idade >= 18:\n",
    "    print(\"Você é maior de idade\")\n",
    "else:\n",
    "    print(\"Você é menor de idade\")\n"
   ]
  },
  {
   "cell_type": "code",
   "execution_count": null,
   "metadata": {},
   "outputs": [],
   "source": [
    "# Verificar temperatura\n",
    "temperatura = float(input(\"Informe a temperatura atual: \"))\n",
    "if temperatura < 10:\n",
    "    print(\"Está muito frio\")\n",
    "elif temperatura < 20:\n",
    "    print(\"Está frio\")\n",
    "elif temperatura < 30:\n",
    "    print(\"Está quente\")\n",
    "else:\n",
    "    print(\"Está muito quente\")\n"
   ]
  },
  {
   "cell_type": "code",
   "execution_count": null,
   "metadata": {},
   "outputs": [],
   "source": [
    "# Verificar senha\n",
    "senha = input(\"Digite a senha: \")\n",
    "if senha == \"1234\":\n",
    "    print(\"Acesso permitido\")\n",
    "else:\n",
    "    print(\"Acesso negado, senha inválida.\")\n"
   ]
  },
  {
   "cell_type": "code",
   "execution_count": null,
   "metadata": {},
   "outputs": [],
   "source": [
    "# Placar de times\n",
    "golst1 = int(input(\"Escreva o placar do time 1: \"))\n",
    "golst2 = int(input(\"Escreva o placar do time 2: \"))\n",
    "if golst1 > golst2:\n",
    "    print(\"O time 1 foi o ganhador\")\n",
    "elif golst1 < golst2:\n",
    "    print(\"O time 2 foi o ganhador\")\n",
    "else:\n",
    "    print(\"O jogo terminou empatado\")\n"
   ]
  },
  {
   "cell_type": "code",
   "execution_count": null,
   "metadata": {},
   "outputs": [],
   "source": [
    "# Classificação por idade\n",
    "idade = int(input(\"Digite sua idade: \"))\n",
    "if idade < 12:\n",
    "    print(\"Você é uma criança\")\n",
    "elif idade < 19:\n",
    "    print(\"Você é adolescente\")\n",
    "elif idade < 25:\n",
    "    print(\"Você é jovem\")\n",
    "elif idade < 41:\n",
    "    print(\"Você é adulto\")\n",
    "elif idade < 61:\n",
    "    print(\"Você está na meia idade\")\n",
    "else:\n",
    "    print(\"Você é idoso\")\n"
   ]
  },
  {
   "cell_type": "code",
   "execution_count": null,
   "metadata": {},
   "outputs": [],
   "source": [
    "# Período do dia\n",
    "periodo = input(\"Informe o seu período (M/V/N): \").upper().strip()\n",
    "if periodo == \"M\":\n",
    "    print(\"Bom dia\")\n",
    "elif periodo == \"V\":\n",
    "    print(\"Boa tarde\")\n",
    "elif periodo == \"N\":\n",
    "    print(\"Boa noite\")\n",
    "else:\n",
    "    print(\"Comando inválido\")\n"
   ]
  },
  {
   "cell_type": "code",
   "execution_count": null,
   "metadata": {},
   "outputs": [],
   "source": [
    "# Aumento salarial\n",
    "salario = float(input(\"Informe seu salário: \"))\n",
    "if salario <= 280:\n",
    "    percentual = 0.2\n",
    "elif salario <= 700:\n",
    "    percentual = 0.15\n",
    "elif salario <= 1500:\n",
    "    percentual = 0.1\n",
    "else:\n",
    "    percentual = 0.05\n",
    "aumento = salario * percentual\n",
    "novo_salario = salario + aumento\n",
    "print(f\"Salário atual: R$ {salario:.2f}\")\n",
    "print(f\"Aumento de {percentual * 100:.0f}%\")\n",
    "print(f\"Valor do aumento: R$ {aumento:.2f}\")\n",
    "print(f\"Novo salário: R$ {novo_salario:.2f}\")\n"
   ]
  },
  {
   "cell_type": "code",
   "execution_count": null,
   "metadata": {},
   "outputs": [],
   "source": [
    "# Dia da semana\n",
    "dia = int(input(\"Informe um dia da semana em número (1-7): \"))\n",
    "match dia:\n",
    "    case 1:\n",
    "        print(\"Domingo\")\n",
    "    case 2:\n",
    "        print(\"Segunda-feira\")\n",
    "    case 3:\n",
    "        print(\"Terça-feira\")\n",
    "    case 4:\n",
    "        print(\"Quarta-feira\")\n",
    "    case 5:\n",
    "        print(\"Quinta-feira\")\n",
    "    case 6:\n",
    "        print(\"Sexta-feira\")\n",
    "    case 7:\n",
    "        print(\"Sábado\")\n",
    "    case _:\n",
    "        print(\"Não é um dia da semana válido\")\n"
   ]
  },
  {
   "cell_type": "code",
   "execution_count": null,
   "metadata": {},
   "outputs": [],
   "source": [
    "# Situação de voto\n",
    "idade = int(input(\"Informe sua idade: \"))\n",
    "match idade:\n",
    "    case _ if idade < 16:\n",
    "        print(\"Você não tem idade para votar\")\n",
    "    case _ if 16 <= idade <= 18:\n",
    "        print(\"Seu voto é opcional\")\n",
    "    case _ if 18 < idade <= 65:\n",
    "        print(\"Voto obrigatório\")\n",
    "    case _ if idade > 65:\n",
    "        print(\"Voto opcional\")\n"
   ]
  },
  {
   "cell_type": "code",
   "execution_count": null,
   "metadata": {},
   "outputs": [],
   "source": [
    "# Classificação de suspeito\n",
    "perguntas = [\n",
    "    int(input(\"Telefonou para a vítima? (1 sim / 0 não): \")),\n",
    "    int(input(\"Esteve no local do crime? (1 sim / 0 não): \")),\n",
    "    int(input(\"Mora perto da vítima? (1 sim / 0 não): \")),\n",
    "    int(input(\"Devia para a vítima? (1 sim / 0 não): \")),\n",
    "    int(input(\"Já trabalhou com a vítima? (1 sim / 0 não): \"))\n",
    "]\n",
    "total_sim = perguntas.count(1)\n",
    "if total_sim == 2:\n",
    "    print(\"Suspeita\")\n",
    "elif 3 <= total_sim <= 4:\n",
    "    print(\"Cúmplice\")\n",
    "elif total_sim == 5:\n",
    "    print(\"Assassino\")\n",
    "else:\n",
    "    print(\"Inocente\")\n"
   ]
  },
  {
   "cell_type": "code",
   "execution_count": null,
   "metadata": {},
   "outputs": [],
   "source": [
    "# Produto mais barato\n",
    "preco1 = float(input(\"Digite o preço do primeiro produto: \"))\n",
    "preco2 = float(input(\"Digite o preço do segundo produto: \"))\n",
    "preco3 = float(input(\"Digite o preço do terceiro produto: \"))\n",
    "if preco1 < preco2 and preco1 < preco3:\n",
    "    print(f\"O primeiro produto é o mais barato, custando R$ {preco1:.2f}.\")\n",
    "elif preco2 < preco1 and preco2 < preco3:\n",
    "    print(f\"O segundo produto é o mais barato, custando R$ {preco2:.2f}.\")\n",
    "else:\n",
    "    print(f\"O terceiro produto é o mais barato, custando R$ {preco3:.2f}.\")\n"
   ]
  },
  {
   "cell_type": "code",
   "execution_count": null,
   "metadata": {},
   "outputs": [],
   "source": [
    "# Conversor de temperatura\n",
    "tipo = input(\"Digite 'C' para converter de Fahrenheit para Celsius ou 'F' para Celsius para Fahrenheit: \").upper()\n",
    "if tipo == 'C':\n",
    "    f = float(input(\"Informe a temperatura em Fahrenheit: \"))\n",
    "    c = (f - 32) * 5 / 9\n",
    "    print(f\"{f}°F equivale a {c:.2f}°C\")\n",
    "elif tipo == 'F':\n",
    "    c = float(input(\"Informe a temperatura em Celsius: \"))\n",
    "    f = (c * 9 / 5) + 32\n",
    "    print(f\"{c}°C equivale a {f:.2f}°F\")\n",
    "else:\n",
    "    print(\"Opção inválida\")\n"
   ]
  }
 ],
 "metadata": {
  "kernelspec": {
   "display_name": "Python 3",
   "language": "python",
   "name": "python3"
  },
  "language_info": {
   "codemirror_mode": {
    "name": "ipython",
    "version": 3
   },
   "file_extension": ".py",
   "mimetype": "text/x-python",
   "name": "python",
   "nbconvert_exporter": "python",
   "pygments_lexer": "ipython3",
   "version": "3.12.6"
  }
 },
 "nbformat": 4,
 "nbformat_minor": 2
}
