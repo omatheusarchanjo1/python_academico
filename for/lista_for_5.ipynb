{
 "cells": [
  {
   "cell_type": "code",
   "execution_count": null,
   "metadata": {},
   "outputs": [],
   "source": [
    "lista = []\n",
    "for i in range(5):\n",
    "    num = int(input(\"Digite um número: \"))\n",
    "    lista.append(num)\n",
    "print(f\"O maior número é {max(lista)}\")\n"
   ]
  },
  {
   "cell_type": "code",
   "execution_count": null,
   "metadata": {},
   "outputs": [],
   "source": [
    "n1 = int(input(\"Informe um número: \"))\n",
    "n2 = int(input(\"Informe um número: \"))\n",
    "intervalo = [i for i in range(min(n1, n2) + 1, max(n1, n2))]\n",
    "print(intervalo)\n"
   ]
  },
  {
   "cell_type": "code",
   "execution_count": null,
   "metadata": {},
   "outputs": [],
   "source": [
    "contador = 0\n",
    "for i in range(1000, 2001):\n",
    "    if i % 11 == 2:\n",
    "        contador += 1\n",
    "        print(i)\n",
    "print(f\"Total de números encontrados: {contador}\")\n"
   ]
  },
  {
   "cell_type": "code",
   "execution_count": null,
   "metadata": {},
   "outputs": [],
   "source": [
    "soma = 0\n",
    "for i in range(5):\n",
    "    n = int(input(\"Digite um número: \"))\n",
    "    soma += n\n",
    "media = soma / 5\n",
    "print(f\"Soma: {soma}\")\n",
    "print(f\"Média: {media}\")\n"
   ]
  },
  {
   "cell_type": "code",
   "execution_count": null,
   "metadata": {},
   "outputs": [],
   "source": [
    "mult = int(input(\"Digite um número: \"))\n",
    "for i in range(1, 11):\n",
    "    print(f\"{mult} x {i} = {mult * i}\")\n"
   ]
  },
  {
   "cell_type": "code",
   "execution_count": null,
   "metadata": {},
   "outputs": [],
   "source": [
    "for i in range(1, 11):\n",
    "    for j in range(1, 11):\n",
    "        print(f\"{i} x {j} = {i * j}\")\n"
   ]
  },
  {
   "cell_type": "code",
   "execution_count": null,
   "metadata": {},
   "outputs": [],
   "source": [
    "for i in range(1, 151):\n",
    "    if i % 2 != 0:\n",
    "        print(i)\n"
   ]
  },
  {
   "cell_type": "code",
   "execution_count": null,
   "metadata": {},
   "outputs": [],
   "source": [
    "numero = int(input(\"Digite um número: \"))\n",
    "if numero < 2:\n",
    "    print(\"Não é primo\")\n",
    "else:\n",
    "    for i in range(2, numero):\n",
    "        if numero % i == 0:\n",
    "            print(\"Não é primo\")\n",
    "            break\n",
    "    else:\n",
    "        print(\"É primo\")\n"
   ]
  },
  {
   "cell_type": "code",
   "execution_count": null,
   "metadata": {},
   "outputs": [],
   "source": [
    "faturamento = 0\n",
    "for i in range(5):\n",
    "    valor = float(input(f\"Digite o valor da compra do cliente {i + 1}: R$ \"))\n",
    "    faturamento += valor\n",
    "\n",
    "if faturamento > 54000:\n",
    "    print(f\"Faturamento superado em R$ {faturamento - 54000:.2f}\")\n",
    "else:\n",
    "    print(f\"Faturamento total: R$ {faturamento:.2f}\")\n"
   ]
  },
  {
   "cell_type": "code",
   "execution_count": null,
   "metadata": {},
   "outputs": [],
   "source": [
    "idades = []\n",
    "n = int(input(\"Quantas pessoas há na turma? \"))\n",
    "for i in range(n):\n",
    "    idade = int(input(f\"Digite a idade da {i + 1}ª pessoa: \"))\n",
    "    idades.append(idade)\n",
    "media = sum(idades) / n\n",
    "if media <= 25:\n",
    "    classificacao = \"jovem\"\n",
    "elif media <= 60:\n",
    "    classificacao = \"adulta\"\n",
    "else:\n",
    "    classificacao = \"idosa\"\n",
    "print(f\"Média de idade: {media:.2f} anos\")\n",
    "print(f\"Turma {classificacao}\")\n"
   ]
  },
  {
   "cell_type": "code",
   "execution_count": null,
   "metadata": {},
   "outputs": [],
   "source": [
    "c1 = c2 = c3 = 0\n",
    "eleitores = int(input(\"Número total de eleitores: \"))\n",
    "for i in range(eleitores):\n",
    "    voto = int(input(\"Vote (1, 2 ou 3): \"))\n",
    "    if voto == 1:\n",
    "        c1 += 1\n",
    "    elif voto == 2:\n",
    "        c2 += 1\n",
    "    elif voto == 3:\n",
    "        c3 += 1\n",
    "    else:\n",
    "        print(\"Voto inválido\")\n",
    "print(f\"Candidato 1: {c1} votos\")\n",
    "print(f\"Candidato 2: {c2} votos\")\n",
    "print(f\"Candidato 3: {c3} votos\")\n"
   ]
  },
  {
   "cell_type": "code",
   "execution_count": null,
   "metadata": {},
   "outputs": [],
   "source": [
    "par = impar = 0\n",
    "for i in range(10):\n",
    "    numero = int(input(\"Digite um número: \"))\n",
    "    if numero % 2 == 0:\n",
    "        par += 1\n",
    "    else:\n",
    "        impar += 1\n",
    "print(f\"Pares: {par}\")\n",
    "print(f\"Ímpares: {impar}\")\n"
   ]
  },
  {
   "cell_type": "code",
   "execution_count": null,
   "metadata": {},
   "outputs": [],
   "source": [
    "while True:\n",
    "    nota = int(input(\"Digite uma nota entre 0 e 10: \"))\n",
    "    if 0 <= nota <= 10:\n",
    "        print(f\"Nota válida: {nota}\")\n",
    "        break\n",
    "    print(\"Nota inválida. Tente novamente.\")\n"
   ]
  },
  {
   "cell_type": "code",
   "execution_count": null,
   "metadata": {},
   "outputs": [],
   "source": [
    "valor = float(input(\"Valor da compra: R$ \"))\n",
    "if valor <= 500:\n",
    "    desconto = 0\n",
    "else:\n",
    "    desconto = min((valor - 500) // 100 + 1, 25)\n",
    "valor_final = valor * (1 - desconto / 100)\n",
    "print(f\"Desconto: {desconto}%\")\n",
    "print(f\"Valor final: R$ {valor_final:.2f}\")\n"
   ]
  },
  {
   "cell_type": "code",
   "execution_count": null,
   "metadata": {},
   "outputs": [],
   "source": [
    "faixas = [0, 0, 0, 0, 0]\n",
    "for i in range(15):\n",
    "    idade = int(input(f\"Idade da {i + 1}ª pessoa: \"))\n",
    "    if idade <= 15:\n",
    "        faixas[0] += 1\n",
    "    elif idade <= 30:\n",
    "        faixas[1] += 1\n",
    "    elif idade <= 45:\n",
    "        faixas[2] += 1\n",
    "    elif idade <= 60:\n",
    "        faixas[3] += 1\n",
    "    else:\n",
    "        faixas[4] += 1\n",
    "\n",
    "total = sum(faixas)\n",
    "print(f\"Até 15 anos: {faixas[0]} pessoas ({(faixas[0]/total)*100:.2f}%)\")\n",
    "print(f\"De 16 a 30 anos: {faixas[1]} pessoas\")\n",
    "print(f\"De 31 a 45 anos: {faixas[2]} pessoas\")\n",
    "print(f\"De 46 a 60 anos: {faixas[3]} pessoas\")\n",
    "print(f\"Acima de 61 anos: {faixas[4]} pessoas ({(faixas[4]/total)*100:.2f}%)\")\n"
   ]
  }
 ],
 "metadata": {
  "language_info": {
   "name": "python"
  }
 },
 "nbformat": 4,
 "nbformat_minor": 2
}
