{
 "cells": [
  {
   "cell_type": "code",
   "execution_count": 3,
   "metadata": {},
   "outputs": [
    {
     "name": "stdout",
     "output_type": "stream",
     "text": [
      "O maior número é 5\n"
     ]
    }
   ],
   "source": [
    "lista = []\n",
    "for i in range(1, 6):\n",
    "  num = int(input(\"Digite um número: \"))\n",
    "  if num > 0:\n",
    "    lista.append(num)\n",
    "print(f\"O maior número é {max(lista)}\")\n"
   ]
  },
  {
   "cell_type": "code",
   "execution_count": null,
   "metadata": {},
   "outputs": [],
   "source": [
    "contador = 0\n",
    "\n",
    "for i in range(1000, 2000 + 1):\n",
    "    if i % 11 == 2:\n",
    "        contador += 1\n",
    "print(contador)"
   ]
  },
  {
   "cell_type": "code",
   "execution_count": null,
   "metadata": {},
   "outputs": [],
   "source": [
    "soma = 0\n",
    "contador = 0\n",
    "for i in range(1, 6):\n",
    "    n = int(input(\"Digite um número: \"))\n",
    "    soma += n\n",
    "    contador += 1\n",
    "print(soma / contador) \n"
   ]
  },
  {
   "cell_type": "code",
   "execution_count": null,
   "metadata": {},
   "outputs": [],
   "source": [
    "mult = int(input(\"Digite um número: \"))\n",
    "for i in range(1,11):\n",
    "  print(f\"O número {mult} x {i} =  {i * mult}\")"
   ]
  },
  {
   "cell_type": "code",
   "execution_count": null,
   "metadata": {},
   "outputs": [],
   "source": [
    "for i in range(1,11):\n",
    "    for j in range(1,11):\n",
    "        print(f\"{i} x {j} = {i * j}\")"
   ]
  },
  {
   "cell_type": "code",
   "execution_count": null,
   "metadata": {},
   "outputs": [],
   "source": [
    "for i in range(1,151):\n",
    "    if i % 2 != 0:\n",
    "        print(i)"
   ]
  },
  {
   "cell_type": "code",
   "execution_count": null,
   "metadata": {},
   "outputs": [],
   "source": [
    "numero = int(input(\"Digite um número: \"))\n",
    "if numero < 2:\n",
    "    print(\"Não é primo\")\n",
    "else:\n",
    "    for i in range(2, numero):\n",
    "        if numero % i == 0:\n",
    "            print(\"Não é primo\")\n",
    "            break\n",
    "    else:\n",
    "        print(\"É primo\")"
   ]
  },
  {
   "cell_type": "code",
   "execution_count": null,
   "metadata": {},
   "outputs": [],
   "source": [
    "idades = []\n",
    "n = int(input(\"Quantas pessoas há na turma? \"))\n",
    "\n",
    "for i in range(n):\n",
    "    idade = int(input(f\"Digite a idade da {i + 1} pessoa: \"))\n",
    "    idades.append(idade)\n",
    "\n",
    "media_idade = sum(idades) / len(idades)\n",
    "\n",
    "if media_idade <= 25:\n",
    "    classificacao = \"jovem\"\n",
    "elif media_idade <= 60:\n",
    "    classificacao = \"adulta\"\n",
    "else:\n",
    "    classificacao = \"idosa\"\n",
    "\n",
    "print(f\"A média de idade da turma é {media_idade:.2f} anos.\")\n",
    "print(f\"A turma é considerada {classificacao}.\")\n"
   ]
  },
  {
   "cell_type": "code",
   "execution_count": null,
   "metadata": {},
   "outputs": [],
   "source": [
    "candidato1 = 0\n",
    "candidato2 = 0\n",
    "candidato3 = 0\n",
    "urna = int(input(\"Digite o número total de eleitores: \"))\n",
    "\n",
    "for i in range(1, urna + 1):\n",
    "    print(\"Opções de voto:\")\n",
    "    print(\"1 - Candidato A, 2 - Candidato B, 3 - Candidato C\")\n",
    "    \n",
    "    voto = int(input(f\"Eleitor {i}, digite o número do candidato escolhido: \"))\n",
    "    \n",
    "    if voto == 1:\n",
    "        candidato1 += 1\n",
    "    elif voto == 2:\n",
    "        candidato2 += 1\n",
    "    elif voto == 3:\n",
    "        candidato3 += 1\n",
    "    else:\n",
    "        print(\"Voto inválido! Não será contabilizado.\")\n",
    "        \n",
    "print(f\"Candidato A: {candidato1} votos\")\n",
    "print(f\"Candidato B: {candidato2} votos\")\n",
    "print(f\"Candidato C: {candidato3} votos\")\n"
   ]
  },
  {
   "cell_type": "code",
   "execution_count": null,
   "metadata": {},
   "outputs": [],
   "source": [
    "\n",
    "par = 0\n",
    "impar = 0\n",
    "\n",
    "\n",
    "for i in range(1, 11):\n",
    "    numero = int(input(f\"Digite o {i} número inteiro: \"))\n",
    "\n",
    "\n",
    "    if numero % 2 == 0:\n",
    "        par += 1\n",
    "    else:\n",
    "        impar += 1\n",
    "\n",
    "\n",
    "print(f\"Quantidade de números pares: {par}\")\n",
    "print(f\"Quantidade de números ímpares: {impar}\")\n"
   ]
  },
  {
   "cell_type": "code",
   "execution_count": null,
   "metadata": {},
   "outputs": [],
   "source": [
    "for i in range(100):  \n",
    "    nota = input(\"Digite uma nota entre 0 e 10: \")\n",
    "    \n",
    "    if nota(): \n",
    "        nota = int(nota)\n",
    "        if 0 <= nota <= 10:\n",
    "            print(f\"Nota válida: {nota}\")\n",
    "            break  \n",
    "    \n",
    "    print(\"Valor inválido! Digite um número entre 0 e 10.\")\n"
   ]
  },
  {
   "cell_type": "code",
   "execution_count": null,
   "metadata": {},
   "outputs": [],
   "source": [
    "valor = float(input(\"Digite o valor da compra: R$ \"))\n",
    "\n",
    "if valor <= 500:\n",
    "    desconto = 0  \n",
    "else:\n",
    "    desconto = min((valor - 500) // 100, 25)  \n",
    "\n",
    "valor_final = valor * (1 - desconto / 100)  \n",
    "\n",
    "print(f\"Desconto aplicado: {desconto}%\")\n",
    "print(f\"Valor final da compra: R$ {valor_final:.2f}\")"
   ]
  },
  {
   "cell_type": "code",
   "execution_count": null,
   "metadata": {},
   "outputs": [],
   "source": [
    "faixas = [0, 0, 0, 0, 0]  \n",
    "\n",
    "for i in range(15):\n",
    "    idade = int(input(f\"Digite a idade da {i + 1}ª pessoa: \"))\n",
    "\n",
    "    if idade <= 15:\n",
    "        faixas[0] += 1\n",
    "    elif idade <= 30:\n",
    "        faixas[1] += 1\n",
    "    elif idade <= 45:\n",
    "        faixas[2] += 1\n",
    "    elif idade <= 60:\n",
    "        faixas[3] += 1\n",
    "    else:\n",
    "        faixas[4] += 1\n",
    "\n",
    "\n",
    "total = sum(faixas)\n",
    "porcento = (faixas[0] / total) * 100\n",
    "porcento = (faixas[4] / total) * 100\n",
    "\n",
    "print(f\"Até 15 anos: {faixas[0]}\")\n",
    "print(f\"De 16 a 30 anos: {faixas[1]}\")\n",
    "print(f\"De 31 a 45 anos: {faixas[2]}\")\n",
    "print(f\"De 46 a 60 anos: {faixas[3]}\")\n",
    "print(f\"Acima de 61 anos: {faixas[4]}\")\n",
    "\n",
    "\n",
    "print(f\"Até 15 anos: {porcento:.2f}%\")\n",
    "print(f\"Acima de 61 anos: {porcento:.2f}%\")\n"
   ]
  },
  {
   "cell_type": "code",
   "execution_count": null,
   "metadata": {},
   "outputs": [],
   "source": [
    "n1 = int(input(\"Informe um número: \"))\n",
    "n2 = int(input(\"Informe um número: \"))\n",
    "intervalo = [i for i in range(min(n1, n2) + 1 , max(n1, n2))]\n",
    "print(intervalo)"
   ]
  }
 ],
 "metadata": {
  "kernelspec": {
   "display_name": "Python 3",
   "language": "python",
   "name": "python3"
  },
  "language_info": {
   "codemirror_mode": {
    "name": "ipython",
    "version": 3
   },
   "file_extension": ".py",
   "mimetype": "text/x-python",
   "name": "python",
   "nbconvert_exporter": "python",
   "pygments_lexer": "ipython3",
   "version": "3.12.6"
  }
 },
 "nbformat": 4,
 "nbformat_minor": 2
}
