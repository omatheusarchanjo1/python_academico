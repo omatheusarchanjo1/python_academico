{
 "cells": [
  {
   "cell_type": "code",
   "execution_count": 16,
   "metadata": {},
   "outputs": [
    {
     "name": "stdout",
     "output_type": "stream",
     "text": [
      "A soma de 3.0 e 3.0 é 6.0.\n"
     ]
    }
   ],
   "source": [
    "# Exercício 1: Crie uma função que receba dois números como parâmetros e\n",
    "# # retorne a soma deles.\n",
    "def somar(a, b):\n",
    "    return a + b\n",
    "\n",
    "\n",
    "num1 = float(input(\"Digite o primeiro número: \"))\n",
    "num2 = float(input(\"Digite o segundo número: \"))\n",
    "\n",
    "resultado = somar(num1, num2)\n",
    "print(f\"A soma de {num1} e {num2} é {resultado}.\")\n",
    "\n",
    "\n",
    "\n",
    "\n",
    "\n"
   ]
  },
  {
   "cell_type": "code",
   "execution_count": null,
   "metadata": {},
   "outputs": [],
   "source": [
    "# Exercício 2: Crie uma função que receba um número e retorne &quot;Par&quot; se o\n",
    "# número for par ou &quot;Ímpar&quot; se o número for ímpar.\n",
    "\n",
    "\n",
    "numero = int(input(\"Digite um numero: \"))\n",
    "def par_impar(numero):\n",
    "    if numero % 2 == 0:\n",
    "        return \"PAR\"\n",
    "    else:\n",
    "        return \"IMPAR\"\n",
    "    \n",
    "print(par_impar(numero))"
   ]
  },
  {
   "cell_type": "code",
   "execution_count": 24,
   "metadata": {},
   "outputs": [
    {
     "name": "stdout",
     "output_type": "stream",
     "text": [
      "5.5\n"
     ]
    }
   ],
   "source": [
    "# Crie uma função chamada media_lista que recebe uma lista de\n",
    "# números e retorna a média deles.\n",
    "lista = [1,2,3,4,5,6,7,8,9,10]\n",
    "\n",
    "def media(lista):\n",
    "    return sum(lista) / len(lista)\n",
    "print(media(lista))"
   ]
  },
  {
   "cell_type": "code",
   "execution_count": 49,
   "metadata": {},
   "outputs": [
    {
     "name": "stdout",
     "output_type": "stream",
     "text": [
      "120\n"
     ]
    }
   ],
   "source": [
    "# Exercício 4: Crie uma função que calcule o fatorial de um número.\n",
    "def fatorial(numero):\n",
    "    resultado = 1 \n",
    "    count = 1\n",
    "    while count <= numero:\n",
    "        resultado *= count\n",
    "        count += 1 \n",
    "    return resultado\n",
    "\n",
    "numero = int(input(\"Fatorial de: \"))\n",
    "resultado = fatorial(numero)\n",
    "\n",
    "print(resultado)"
   ]
  },
  {
   "cell_type": "code",
   "execution_count": null,
   "metadata": {},
   "outputs": [],
   "source": [
    "# Exercício 5: Crie uma função chamada tabuada que recebe um número e\n",
    "# imprime sua tabuada do 1 ao 10.\n",
    "mult = int(input(\"Digite um número: \"))\n",
    "def tabuada(mult):\n",
    "    for i in range(1,11):\n",
    "        print(f\"O número {mult} x {i} = {i * mult}\")\n",
    "\n",
    "tabuada(mult)\n",
    "\n",
    "    "
   ]
  },
  {
   "cell_type": "code",
   "execution_count": 60,
   "metadata": {},
   "outputs": [
    {
     "name": "stdout",
     "output_type": "stream",
     "text": [
      "É palindromo\n"
     ]
    }
   ],
   "source": [
    "# Exercício 6: Crie uma função que receba uma string e retorne True se ela for\n",
    "# um palíndromo (uma palavra ou frase que se lê da mesma forma de trás para\n",
    "# frente) e False caso contrário.\n",
    "palavra = input(\"Digite uma palavra: \")\n",
    "\n",
    "def e_palindromo(palavra):\n",
    "    if palavra [::-1] == palavra:\n",
    "        return \"É palindromo\"\n",
    "    else: \n",
    "        return \"Não é palindromo\"\n",
    "print(e_palindromo(palavra))"
   ]
  },
  {
   "cell_type": "code",
   "execution_count": null,
   "metadata": {},
   "outputs": [
    {
     "name": "stdout",
     "output_type": "stream",
     "text": [
      "9\n"
     ]
    }
   ],
   "source": [
    "# Exercício 7: Crie uma função que receba uma lista de números e retorne o\n",
    "# maior número dessa lista.\n",
    "lista = [1,2,3,4,5,6,7,8,9]\n",
    "\n",
    "def maior(lista):\n",
    "    return max(lista)\n",
    "\n",
    "print(maior(lista))"
   ]
  },
  {
   "cell_type": "code",
   "execution_count": 62,
   "metadata": {},
   "outputs": [
    {
     "name": "stdout",
     "output_type": "stream",
     "text": [
      "5.0\n"
     ]
    }
   ],
   "source": [
    "# Exercício 8: Crie uma função que receba uma lista de notas e retorne a média\n",
    "# das notas.\n",
    "lista = [1,2,3,4,5,6,7,8,9]\n",
    "\n",
    "def maior(lista):\n",
    "    return sum(lista) / len(lista)\n",
    "\n",
    "print(maior(lista))"
   ]
  },
  {
   "cell_type": "code",
   "execution_count": null,
   "metadata": {},
   "outputs": [
    {
     "name": "stdout",
     "output_type": "stream",
     "text": [
      "Há vogais 6\n"
     ]
    }
   ],
   "source": [
    "# Exercício 9: Crie uma função que conte quantas vogais existem em uma string\n",
    "# fornecida.\n",
    "\n",
    "vogais = \"AEIOU\"\n",
    "palavra = input(\"Digite uma palavra: \").upper()\n",
    "def verificar_vogais(palavra):\n",
    "    palavra = palavra.upper()\n",
    "    \n",
    "    for letra in vogais:\n",
    "        if letra in vogais:\n",
    "            return (\"Há vogais\")\n",
    "        else:\n",
    "            return(\"Não há vogais\")\n",
    "quantidade = len(palavra)\n",
    "resultado = verificar_vogais(palavra)\n",
    "print(resultado, quantidade)\n",
    "\n"
   ]
  },
  {
   "cell_type": "code",
   "execution_count": null,
   "metadata": {},
   "outputs": [
    {
     "name": "stdout",
     "output_type": "stream",
     "text": [
      "[1, 4, 4, 6, 8, 8]\n"
     ]
    }
   ],
   "source": [
    "lista = [4,6,8,8,4,1]\n",
    "\n",
    "def ordem_lista(lista):\n",
    "    lista.sort()\n",
    "    return lista\n",
    "\n",
    "print(ordem_lista(lista))"
   ]
  }
 ],
 "metadata": {
  "kernelspec": {
   "display_name": "Python 3",
   "language": "python",
   "name": "python3"
  },
  "language_info": {
   "codemirror_mode": {
    "name": "ipython",
    "version": 3
   },
   "file_extension": ".py",
   "mimetype": "text/x-python",
   "name": "python",
   "nbconvert_exporter": "python",
   "pygments_lexer": "ipython3",
   "version": "3.12.6"
  }
 },
 "nbformat": 4,
 "nbformat_minor": 2
}
